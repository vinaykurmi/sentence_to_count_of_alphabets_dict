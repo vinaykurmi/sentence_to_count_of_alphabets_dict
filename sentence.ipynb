{
 "cells": [
  {
   "cell_type": "code",
   "execution_count": 1,
   "metadata": {},
   "outputs": [],
   "source": [
    "def sentence_to_dict(sentence):\n",
    "#     Importing libraries\n",
    "    import re\n",
    "    from collections import defaultdict\n",
    "#     Splitting the sentence into a list while ignoring/removing all signs\n",
    "    split_sent = re.split(r'\\W+',sentence)[:-1]\n",
    "#     removing duplicates from the list\n",
    "    res = []\n",
    "    for i in split_sent: \n",
    "        if i not in res: \n",
    "            res.append(i)\n",
    "    new_list = []\n",
    "#     Counting number of alphabets for each element in the list\n",
    "    for each in res:\n",
    "        count = 0\n",
    "        for i in each:\n",
    "            count+=1\n",
    "        new_list.append(count)\n",
    "#         Creating a dictionary by merging the two list achieved above\n",
    "    d = defaultdict(list)\n",
    "    for key, value in zip(new_list, res):\n",
    "        d[key].append(value)\n",
    "    new_dict = dict(d)\n",
    "#     Sorting the final dictionary based on the keys \n",
    "    final_dict = dict(sorted(new_dict.items(), key=lambda item: item[0]))\n",
    "    print(final_dict)"
   ]
  },
  {
   "cell_type": "code",
   "execution_count": 2,
   "metadata": {},
   "outputs": [
    {
     "name": "stdout",
     "output_type": "stream",
     "text": [
      "{3: ['The', 'two', 'Bob', 'but', 'saw', 'was', 'him'], 4: ['cats', 'with', 'fear', 'once', 'they', 'that'], 6: ['bonded'], 7: ['quickly'], 8: ['harmless'], 10: ['approached']}\n"
     ]
    }
   ],
   "source": [
    "sentence_to_dict(\"The two cats approached Bob with fear, but once they saw that Bob was harmless, they bonded with him quickly.\")"
   ]
  },
  {
   "cell_type": "code",
   "execution_count": 3,
   "metadata": {},
   "outputs": [
    {
     "name": "stdout",
     "output_type": "stream",
     "text": [
      "{1: ['a'], 2: ['is', 'to'], 3: ['key'], 4: ['Hard', 'work'], 9: ['achieving']}\n"
     ]
    }
   ],
   "source": [
    "sentence_to_dict(\"Hard work is a key to achieving success\")"
   ]
  }
 ],
 "metadata": {
  "kernelspec": {
   "display_name": "Python 3",
   "language": "python",
   "name": "python3"
  },
  "language_info": {
   "codemirror_mode": {
    "name": "ipython",
    "version": 3
   },
   "file_extension": ".py",
   "mimetype": "text/x-python",
   "name": "python",
   "nbconvert_exporter": "python",
   "pygments_lexer": "ipython3",
   "version": "3.8.5"
  }
 },
 "nbformat": 4,
 "nbformat_minor": 4
}
